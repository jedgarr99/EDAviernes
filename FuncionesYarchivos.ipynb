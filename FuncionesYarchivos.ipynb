{
  "nbformat": 4,
  "nbformat_minor": 0,
  "metadata": {
    "colab": {
      "name": "FuncionesYarchivos.ipynb",
      "provenance": [],
      "include_colab_link": true
    },
    "kernelspec": {
      "name": "python3",
      "display_name": "Python 3"
    }
  },
  "cells": [
    {
      "cell_type": "markdown",
      "metadata": {
        "id": "view-in-github",
        "colab_type": "text"
      },
      "source": [
        "<a href=\"https://colab.research.google.com/github/jedgarr99/Python/blob/master/FuncionesYarchivos.ipynb\" target=\"_parent\"><img src=\"https://colab.research.google.com/assets/colab-badge.svg\" alt=\"Open In Colab\"/></a>"
      ]
    },
    {
      "cell_type": "code",
      "metadata": {
        "id": "J8_KYl6AfSyF",
        "colab_type": "code",
        "colab": {}
      },
      "source": [
        ""
      ],
      "execution_count": 0,
      "outputs": []
    },
    {
      "cell_type": "markdown",
      "metadata": {
        "id": "aYO3pryhfesn",
        "colab_type": "text"
      },
      "source": [
        "#Funciones y archivos con Python\n",
        "Una función es una secuencia de instrucciones que realizan alguna operación útil y se identifican con un nombre.\n",
        "\n",
        "Las funciones pueden o no tomar argumentos y pueden o no producir un resultado.\n",
        "\n",
        "\n",
        "Crear una función permite:\n",
        "* da legibilidad al código\n",
        "* facilita la depuración\n",
        "* reduce el tamaño total del código\n",
        "* eliminando código repetitivo\n",
        "* permite reutilizar código\n",
        "* cumple el principio DRY (don’t repeat yourself)"
      ]
    },
    {
      "cell_type": "code",
      "metadata": {
        "id": "Pl0g-5vZf0CH",
        "colab_type": "code",
        "colab": {}
      },
      "source": [
        "import math as m\n",
        "\n",
        "def suma(a, b):\n",
        "    return a+b\n",
        "\n",
        "def suma (a=1, b=None):\n",
        "    if b== None:\n",
        "        return a\n",
        "    else:\n",
        "        return a+b\n",
        "    \n",
        "def circulo(radio):\n",
        "    return m.pi*radio**2,m.pi*2*radio\n",
        "\n",
        "def saludar(idioma):\n",
        "    def esp():\n",
        "        print('hola')\n",
        "    def ing():\n",
        "        print('hello')\n",
        "    def fran():\n",
        "        print('salut')\n",
        "    idiomaFun={'es':esp,\n",
        "               'in':ing,\n",
        "               'fr':fran}\n",
        "    return idiomaFun[idioma]\n",
        "\n",
        "resta=lambda x,y:x-y\n",
        "\n",
        "def cubo(x):\n",
        "    return x**3\n",
        "\n",
        "lista=[1,2,3,4,5]\n",
        "\n",
        "print(list(map(cubo, lista)))\n",
        "\n",
        "def lee(archivo):\n",
        "    id=open(archivo, 'r')\n",
        "    contenido= id.read()\n",
        "    listaRes=contenido.split('\\n')\n",
        "    id.close\n",
        "    return listaRes"
      ],
      "execution_count": 0,
      "outputs": []
    },
    {
      "cell_type": "code",
      "metadata": {
        "id": "1VyZQcaQf3bq",
        "colab_type": "code",
        "colab": {}
      },
      "source": [
        "import ejemFunciones as f\n",
        "\n",
        "print(f.suma(5,3))\n",
        "\n",
        "print(f.suma(a=5,b=3))\n",
        "\n",
        "print(f.suma())\n",
        "\n",
        "print(f.suma(5))\n",
        "\n",
        "print(f.suma(b=15))\n",
        "\n",
        "print(list(f.circulo(10)))\n",
        "t=list(f.circulo(10))\n",
        "print(type(t))\n",
        "\n",
        "def saludar(idioma):\n",
        "    def esp():\n",
        "        print('hola')\n",
        "    def ing():\n",
        "        print('hello')\n",
        "    def fran():\n",
        "        print('salut')\n",
        "    idiomaFun={'es':esp(),\n",
        "               'in':ing(),\n",
        "               'fr':fran()}\n",
        "    return idiomaFun[idioma]\n",
        "\n",
        "print(saludar('fr'))"
      ],
      "execution_count": 0,
      "outputs": []
    },
    {
      "cell_type": "markdown",
      "metadata": {
        "id": "akDDZZw5f6be",
        "colab_type": "text"
      },
      "source": [
        "#Función lambda\n",
        " es una forma de crear funciones anónimas, (funciones sin nombre). Estas funciones son desechables, es decir, solo se necesitan donde se han creado. Utilizan principalmente en combinatorio con las funciones Map, Filtery Reduce. La sintaxis general de una función lambda es bastante simple:lambda argument_list: expresison\n",
        "\n",
        "\n",
        " ![Ejemplo:](https://encrypted-tbn0.gstatic.com/images?q=tbn%3AANd9GcQVg-dKxEHgo0BnMW0VFm04zYi05Zr8h4rpPuZPVsv4SK0dbjDV)\n",
        "\n",
        "\n",
        "##Se utiliza junto con: \n",
        "\n",
        "El operador **Map(función, lista)**, toma unafuncióny uniterablecomo argumentos, y devuelve un nuevoiterablecon lafunciónaplicada a cadaargumento\n",
        "\n",
        "El operador **filter(función, lista)** filtra todos los elementos de una lista, necesita una función f (devuelve un valor booleano) como primer argumento, esta función se aplicará a cada elemento de la lista.Solo si f devuelve True, el elemento de la lista se incluirá en la lista de resultados\n",
        "\n",
        "La función **Reduce(función, lista)** reduce los valores de lalistaa un solo valor aplicando unafunción reductora. El primer argumento es lafunción reductoraque vamos aplicar y el segundo argumento es la lista.\n"
      ]
    },
    {
      "cell_type": "markdown",
      "metadata": {
        "id": "InZSloThgzg9",
        "colab_type": "text"
      },
      "source": [
        "#Lectura de Archivos\n",
        "\n",
        "El contenido del archivo de texto queda almacenado en una lista, cada renglón del archivo es un elemento de la lista (se utilizó el ‘\\n’ como separador de elementos\n",
        "\n",
        "Una buena práctica de programación es no olvidar cerrar el archivo de lectura al terminar de utilizarlo"
      ]
    },
    {
      "cell_type": "code",
      "metadata": {
        "id": "0HzEmXUDgvfu",
        "colab_type": "code",
        "colab": {}
      },
      "source": [
        "def lee(archivo):\n",
        "    id=open(archivo, 'r')\n",
        "    contenido= id.read()\n",
        "    listaRes=contenido.split('\\n')\n",
        "    id.close\n",
        "    return listaRes"
      ],
      "execution_count": 0,
      "outputs": []
    },
    {
      "cell_type": "code",
      "metadata": {
        "id": "orVyuRrTgvcR",
        "colab_type": "code",
        "colab": {}
      },
      "source": [
        ""
      ],
      "execution_count": 0,
      "outputs": []
    }
  ]
}